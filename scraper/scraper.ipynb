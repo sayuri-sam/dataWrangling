{
 "cells": [
  {
   "cell_type": "markdown",
   "metadata": {},
   "source": [
    "## Scraping Websites to extract information about opinions living in a country"
   ]
  },
  {
   "cell_type": "markdown",
   "metadata": {},
   "source": [
    "### Get the page soruce code from the website"
   ]
  },
  {
   "cell_type": "markdown",
   "metadata": {},
   "source": [
    "#### Preparation"
   ]
  },
  {
   "cell_type": "code",
   "execution_count": 1,
   "metadata": {},
   "outputs": [],
   "source": [
    "#importing the required libraries\n",
    "from selenium import webdriver\n",
    "from selenium.webdriver.firefox.service import Service\n",
    "from selenium.webdriver.common.keys import Keys\n",
    "from selenium.webdriver.common.by import By\n",
    "from selenium.webdriver.support import expected_conditions as EC\n",
    "from selenium.webdriver.support.ui import WebDriverWait\n",
    "import time\n",
    "from time import sleep\n",
    "import random\n"
   ]
  },
  {
   "cell_type": "code",
   "execution_count": 2,
   "metadata": {},
   "outputs": [],
   "source": [
    "# Define the path to geckodriver\n",
    "geckodriver_path = r'D:\\apps\\geckodriver\\geckodriver.exe'\n",
    "\n",
    "# Set up the Firefox options\n",
    "options = webdriver.FirefoxOptions()\n",
    "\n",
    "# Initialize the Firefox WebDriver with the Service class\n",
    "service = Service(geckodriver_path)\n",
    "browser = webdriver.Firefox(service=service, options=options)"
   ]
  },
  {
   "cell_type": "markdown",
   "metadata": {},
   "source": [
    "1. Define the website URL<br>\n",
    "2. Get the page source code <br>\n",
    "3. Use requests library to get the page source code"
   ]
  },
  {
   "cell_type": "code",
   "execution_count": 3,
   "metadata": {},
   "outputs": [],
   "source": [
    "start_url = \"https://en.quora.com/login\"\n",
    "\n",
    "landing_url = \"https://www.quora.com/\"\n",
    "\n",
    "question_url_1 = \"https://www.quora.com/What-is-living-in-Helsinki-Finland-like\"\n",
    "\n",
    "question_url_2 = \"https://www.quora.com/Is-Norway-a-good-country-to-live-in\"\n",
    "\n",
    "question_url_3 = \"https://www.quora.com/What-is-it-like-to-live-in-Denmark-as-a-foreigner\"\n",
    "\n",
    "question_url_4 = \"https://www.quora.com/How-does-it-feel-living-in-Sweden\"\n",
    "\n",
    "question_url_5 = \"https://www.quora.com/What-is-it-like-to-live-in-New-Zealand-e-g-employment-health-care-sports-culture-etc\""
   ]
  },
  {
   "cell_type": "code",
   "execution_count": null,
   "metadata": {},
   "outputs": [],
   "source": [
    "## login to quora\n",
    "browser.get(start_url)\n",
    "usernameBox = browser.find_element(By.XPATH,'//*[@id=\"email\"]')\n",
    "usernameBox.send_keys('')\n",
    "\n",
    "time.sleep(1)\n",
    "\n",
    "passwordBox = browser.find_element(By.XPATH,'//*[@id=\"password\"]')\n",
    "passwordBox.send_keys('')\n",
    "\n"
   ]
  },
  {
   "cell_type": "code",
   "execution_count": 5,
   "metadata": {},
   "outputs": [],
   "source": [
    "#captcha clearence\n",
    "#use incase of captcha blocking the login\n",
    "\n",
    "#add keboard enter\n",
    "input(\"Solve the CAPTCHA and press Enter to continue...\")\n",
    "\n",
    "\n",
    "browser.execute_script(\n",
    "    \"document.querySelector('button.q-click-wrapper:nth-child(2)').click();\"\n",
    ")\n"
   ]
  },
  {
   "cell_type": "markdown",
   "metadata": {},
   "source": [
    "Get into landing page, create random wait time to avoid being blocked"
   ]
  },
  {
   "cell_type": "code",
   "execution_count": 6,
   "metadata": {},
   "outputs": [],
   "source": [
    "# landing page\n",
    "time.sleep(random.randint(1, 4))\n",
    "\n",
    "browser.get(landing_url)"
   ]
  },
  {
   "cell_type": "markdown",
   "metadata": {},
   "source": [
    "#### Query question to Quora"
   ]
  },
  {
   "cell_type": "code",
   "execution_count": 7,
   "metadata": {},
   "outputs": [],
   "source": [
    "# question 1 - finland\n",
    "browser.get(question_url_1)\n",
    "time.sleep(random.randint(1, 5))\n",
    "\n",
    "# wait for the page to load\n",
    "wait = WebDriverWait(browser, 10)\n",
    "\n",
    "# Find all elements with the text 'Continue Reading'\n",
    "elements = browser.find_elements(By.XPATH, \"//div[text()='Continue Reading']\")\n",
    "\n",
    "#1 Click the element\n",
    "for element in elements[:2]:\n",
    "    try:\n",
    "        browser.execute_script(\"arguments[0].click();\", element)\n",
    "        time.sleep(1)\n",
    "    except Exception as e:\n",
    "        print(f\"Error clicking element: {e}\")\n",
    "        continue\n",
    "\n",
    "#2 alternative way: click \"more\" button if continue reading is not available\n",
    "elements = browser.find_elements(\n",
    "    By.CSS_SELECTOR,\n",
    "    \"span.q-text.qu-cursor--pointer.qt_read_more.qu-color--blue_dark\",\n",
    ")\n",
    "\n",
    "for element in elements[:2]:\n",
    "    try:\n",
    "        browser.execute_script(\"arguments[0].click();\", element)\n",
    "        time.sleep(1)  # Adjust if needed\n",
    "    except Exception as e:\n",
    "        print(f\"Error clicking 'more' element: {e}\")\n",
    "        continue\n",
    "    \n",
    "time.sleep(random.randint(1, 3))\n",
    "\n",
    "#save the page source\n",
    "html_content = browser.page_source \n",
    "\n",
    "with open(\"html_files/finland.html\", \"w\", encoding=\"utf-8\") as file:\n",
    "    file.write(html_content)\n"
   ]
  },
  {
   "cell_type": "code",
   "execution_count": 8,
   "metadata": {},
   "outputs": [],
   "source": [
    "# question 2 - Norway\n",
    "browser.get(question_url_2)\n",
    "time.sleep(random.randint(1,5))\n",
    "\n",
    "# wait for the page to load\n",
    "wait = WebDriverWait(browser, 10)\n",
    "\n",
    "# Find all elements with the text 'Continue Reading'\n",
    "elements = browser.find_elements(By.XPATH, \"//div[text()='Continue Reading']\")\n",
    "\n",
    "#1 Click the element\n",
    "for element in elements[:2]:\n",
    "    try:\n",
    "        browser.execute_script(\"arguments[0].click();\", element)\n",
    "        time.sleep(1)\n",
    "    except Exception as e:\n",
    "        print(f\"Error clicking element: {e}\")\n",
    "        continue\n",
    "\n",
    "#2 alternative way: click \"more\" button if continue reading is not available\n",
    "elements = browser.find_elements(\n",
    "    By.CSS_SELECTOR,\n",
    "    \"span.q-text.qu-cursor--pointer.qt_read_more.qu-color--blue_dark\",\n",
    ")\n",
    "\n",
    "for element in elements[:2]:\n",
    "    try:\n",
    "        browser.execute_script(\"arguments[0].click();\", element)\n",
    "        time.sleep(1)  # Adjust if needed\n",
    "    except Exception as e:\n",
    "        print(f\"Error clicking 'more' element: {e}\")\n",
    "        continue\n",
    "    \n",
    "time.sleep(random.randint(1, 3))\n",
    "\n",
    "#save the page\n",
    "html_content = browser.page_source \n",
    "\n",
    "with open(\"html_files/norway.html\", \"w\", encoding=\"utf-8\") as file:\n",
    "    file.write(html_content)\n"
   ]
  },
  {
   "cell_type": "code",
   "execution_count": 9,
   "metadata": {},
   "outputs": [],
   "source": [
    "# question 3 - Dannmark\n",
    "browser.get(question_url_3)\n",
    "time.sleep(random.randint(1, 5))\n",
    "\n",
    "# wait for the page to load\n",
    "wait = WebDriverWait(browser, 10)\n",
    "\n",
    "# Find all elements with the text 'Continue Reading'\n",
    "elements = browser.find_elements(By.XPATH, \"//div[text()='Continue Reading']\")\n",
    "\n",
    "#1 Click the element\n",
    "for element in elements[:2]:\n",
    "    try:\n",
    "        browser.execute_script(\"arguments[0].click();\", element)\n",
    "        time.sleep(1)\n",
    "    except Exception as e:\n",
    "        print(f\"Error clicking element: {e}\")\n",
    "        continue\n",
    "\n",
    "#2 alternative way: click \"more\" button if continue reading is not available\n",
    "elements = browser.find_elements(\n",
    "    By.CSS_SELECTOR,\n",
    "    \"span.q-text.qu-cursor--pointer.qt_read_more.qu-color--blue_dark\",\n",
    ")\n",
    "\n",
    "for element in elements[:2]:\n",
    "    try:\n",
    "        browser.execute_script(\"arguments[0].click();\", element)\n",
    "        time.sleep(1)  # Adjust if needed\n",
    "    except Exception as e:\n",
    "        print(f\"Error clicking 'more' element: {e}\")\n",
    "        continue\n",
    "\n",
    "\n",
    "time.sleep(random.randint(1, 3))\n",
    "\n",
    "#save the page\n",
    "html_content = browser.page_source \n",
    "with open(\"html_files/danmark.html\", \"w\", encoding=\"utf-8\") as file:\n",
    "    file.write(html_content)"
   ]
  },
  {
   "cell_type": "code",
   "execution_count": 10,
   "metadata": {},
   "outputs": [],
   "source": [
    "# question 4 - Sweden\n",
    "browser.get(question_url_4)\n",
    "time.sleep(random.randint(1, 5))\n",
    "\n",
    "# wait for the page to load\n",
    "wait = WebDriverWait(browser, 10)\n",
    "\n",
    "# Find all elements with the text 'Continue Reading'\n",
    "elements = browser.find_elements(By.XPATH, \"//div[text()='Continue Reading']\")\n",
    "\n",
    "#1 Click the element\n",
    "for element in elements[:2]:\n",
    "    try:\n",
    "        browser.execute_script(\"arguments[0].click();\", element)\n",
    "        time.sleep(1)\n",
    "    except Exception as e:\n",
    "        print(f\"Error clicking element: {e}\")\n",
    "        continue\n",
    "\n",
    "#2 alternative way: click \"more\" button if continue reading is not available\n",
    "elements = browser.find_elements(\n",
    "    By.CSS_SELECTOR,\n",
    "    \"span.q-text.qu-cursor--pointer.qt_read_more.qu-color--blue_dark\",\n",
    ")\n",
    "\n",
    "for element in elements[:2]:\n",
    "    try:\n",
    "        browser.execute_script(\"arguments[0].click();\", element)\n",
    "        time.sleep(1)  # Adjust if needed\n",
    "    except Exception as e:\n",
    "        print(f\"Error clicking 'more' element: {e}\")\n",
    "        continue\n",
    "\n",
    "\n",
    "time.sleep(random.randint(1, 3))\n",
    "\n",
    "#save the page\n",
    "html_content = browser.page_source \n",
    "with open(\"html_files/sweden.html\", \"w\", encoding=\"utf-8\") as file:\n",
    "    file.write(html_content)"
   ]
  },
  {
   "cell_type": "code",
   "execution_count": 11,
   "metadata": {},
   "outputs": [],
   "source": [
    "# question 5 - New Zealand\n",
    "browser.get(question_url_5)\n",
    "time.sleep(random.randint(1, 5))\n",
    "\n",
    "# wait for the page to load\n",
    "wait = WebDriverWait(browser, 10)\n",
    "\n",
    "# Find all elements with the text 'Continue Reading'\n",
    "elements = browser.find_elements(By.XPATH, \"//div[text()='Continue Reading']\")\n",
    "\n",
    "#1 Click the element\n",
    "for element in elements[:2]:\n",
    "    try:\n",
    "        browser.execute_script(\"arguments[0].click();\", element)\n",
    "        time.sleep(1)\n",
    "    except Exception as e:\n",
    "        print(f\"Error clicking element: {e}\")\n",
    "        continue\n",
    "\n",
    "#2 alternative way : click \"more\" button if continue reading is not available\n",
    "elements = browser.find_elements(\n",
    "    By.CSS_SELECTOR,\n",
    "    \"span.q-text.qu-cursor--pointer.qt_read_more.qu-color--blue_dark\",\n",
    ")\n",
    "\n",
    "for element in elements[:2]:\n",
    "    try:\n",
    "        browser.execute_script(\"arguments[0].click();\", element)\n",
    "        time.sleep(1)  # Adjust if needed\n",
    "    except Exception as e:\n",
    "        print(f\"Error clicking 'more' element: {e}\")\n",
    "        continue\n",
    "\n",
    "time.sleep(random.randint(1, 3))\n",
    "\n",
    "#save the page\n",
    "html_content = browser.page_source \n",
    "with open(\"html_files/newzealand.html\", \"w\", encoding=\"utf-8\") as file:\n",
    "    file.write(html_content)"
   ]
  },
  {
   "cell_type": "markdown",
   "metadata": {},
   "source": [
    "#### Close the browser"
   ]
  },
  {
   "cell_type": "code",
   "execution_count": 12,
   "metadata": {},
   "outputs": [],
   "source": [
    "browser.quit()"
   ]
  },
  {
   "cell_type": "markdown",
   "metadata": {},
   "source": [
    "### Begin Extracting Information from the page source code"
   ]
  },
  {
   "cell_type": "markdown",
   "metadata": {},
   "source": [
    "#### Preparation"
   ]
  },
  {
   "cell_type": "code",
   "execution_count": 2,
   "metadata": {},
   "outputs": [],
   "source": [
    "#library for parsing html\n",
    "import re\n",
    "import chardet\n",
    "import requests\n",
    "import json\n",
    "import sys\n",
    "import os\n",
    "import datetime\n",
    "import pandas as pd\n",
    "from bs4 import BeautifulSoup\n",
    "\n"
   ]
  },
  {
   "cell_type": "markdown",
   "metadata": {},
   "source": [
    "Defining function to exctract information from the page source code"
   ]
  },
  {
   "cell_type": "code",
   "execution_count": 3,
   "metadata": {},
   "outputs": [],
   "source": [
    "\n",
    "# Define Function to parse HTML and extract recomended answers\n",
    "def parse_quora_html(html_page):\n",
    "    soup = BeautifulSoup(html_page, \"html.parser\")\n",
    "    answer_contents = soup.find_all(\n",
    "        \"div\",\n",
    "        class_=\"q-box spacing_log_answer_content puppeteer_test_answer_content\",\n",
    "    )\n",
    "    extracted_text = [content.text.strip() for content in answer_contents]\n",
    "    return pd.DataFrame({\"answer_text\": extracted_text})"
   ]
  },
  {
   "cell_type": "markdown",
   "metadata": {},
   "source": [
    "Loop through all page sources in the directory, and save extracted information into CSV file"
   ]
  },
  {
   "cell_type": "code",
   "execution_count": 4,
   "metadata": {},
   "outputs": [],
   "source": [
    "# Loop through all HTML files in the directory\n",
    "directory = 'html_files'\n",
    "for filename in os.listdir(directory):\n",
    "    if filename.endswith('.html'):\n",
    "        filepath = os.path.join(directory, filename)\n",
    "        with open(filepath, 'r', encoding='utf-8') as file:\n",
    "            html_page = file.read()\n",
    "            df = parse_quora_html(html_page)\n",
    "            output_filename = f\"{os.path.splitext(filename)[0]}_data.csv\"\n",
    "            df.to_csv(os.path.join(directory, output_filename), index=False)"
   ]
  },
  {
   "cell_type": "markdown",
   "metadata": {},
   "source": [
    "### Create API Call to gemini ai (Generative AI)"
   ]
  },
  {
   "cell_type": "code",
   "execution_count": null,
   "metadata": {},
   "outputs": [
    {
     "name": "stderr",
     "output_type": "stream",
     "text": [
      "d:\\apps\\Anaconda\\envs\\Python310\\lib\\site-packages\\tqdm\\auto.py:21: TqdmWarning: IProgress not found. Please update jupyter and ipywidgets. See https://ipywidgets.readthedocs.io/en/stable/user_install.html\n",
      "  from .autonotebook import tqdm as notebook_tqdm\n"
     ]
    }
   ],
   "source": [
    "# import library for text generation\n",
    "# setting API key\n",
    "import google.generativeai as genai\n",
    "\n",
    "os.environ[\"API_KEY\"] = 'ASasakakekkasdfjasu777k' # not real key/ replace with your API key\n",
    "genai.configure(api_key=os.environ[\"API_KEY\"])"
   ]
  },
  {
   "cell_type": "markdown",
   "metadata": {},
   "source": [
    "#### Feed the extracted information to the API"
   ]
  },
  {
   "cell_type": "code",
   "execution_count": 6,
   "metadata": {},
   "outputs": [
    {
     "data": {
      "text/plain": [
       "['You are born. Your parents do not have to pay anything for the hospital visit.Up until you are in your mid teens your parents are paid for having you.All hospital visits are free for your entire life (except a small administrative fee for each visit; $15).Going to school is free of charge, even going to college and university (!)You are actually paid for going to school.Should you end up on the street, the social service finds you a secure home.People are nice, however not that talkative.If you are invited to visit at Swedish home you can expect to be offered a kanelbulle and coffee.Winters are cold, summers are nice, fall is beautiful, and spring is wonderful.We have two kings: Kung Carl Gustav and Zlatan Ibrahimovic.',\n",
       " 'I can give you my unique perspective on these things, without presumptions. Lifestyle - Sweden is quiet. It’s the second biggest country by area in Europe, with only 10 million people. I live in Stockholm, about 12 minutes from the central station by train and it feels like I live in the countryside. If you sit on the subway, it’s quiet also. If you’re not proactive about making friends and acquaintances, you’ll feel lonely. You can meet these through your job, through a school, or through hobby clubs and interest areas. It took me a while to get used to the fact that you don’t generally strike up conversations with strangers on buses and trains. Salaries - I believe i get paid quite well for a 27 year old in a skilled area. I’ve worked in an advertising agency as a creative for the last three years. I earn enough to pay rent. I pay around 6000SEK from my mortgage every month. I can eat out without thinking too much about the cost. I save 20-25% of my monthly salary and splurge on the occasional crap i don’t need, like new shoes etc. Renting apartments in the city is quite expensive, but even when I first moved to Stockholm, I took a job at a restaurant as a cook and found that I got by just fine. My salary after tax was about 15,000SEK. Politics - For me this is a non-issue. Stockholm is a melting pot of cultures and in my five years here, i’ve never directly witnessed intentional racism.Sure, there are racists and sexist, but they’re everywhere. There is the odd story in the paper about rape, murder, assault, but they’re few and far between. I feel safe taking the train at 2am and my girlfriend feels the same way. Swedes are generally very accepting of people’s sexuality, gender identity, race, etc etc. Metal - The dads love it. My girlfriend’s dad loves Iron Maiden, Judas Priest etc, but people have diverse tastes in music. It’s not like you see a train full of metalheads everyday. Hope some of this personal perspective helps you. Come visit!',\n",
       " 'I have lived in Sweden back in 2015. As it was my first time outside India. There were many pros and cons.Pros:-1) Great environment,clean and fresh air. Which is definitely an issue in most of the cities in India.2) There is an environment of mutual respect at work place and most of the people are not bothered about what you are doing in your life unlike India.3) Travelling around Stockholm was so easy in metro and buses as you need a single card for 30 days ...cost 799 krones. It will work everywhere.4) So much learn from Sweden how to do governance and put a system in place. No room fo… (more)',\n",
       " 'There are, oddly, two schools of thought on this. Fox News version: I get up at 7, ignoring the call to morning prayer, since it’s basically my last chance before it becomes mandatory also for Christians. Turn on the news. Another 514 Christian women raped by refugees; the Chief of Police praises the new record and fires another 800 staff. Commuter train bombed by terrorists again; wife will have to walk to work, puts on her bulletproof vest (for the snipers). Kids off to school, after being robbed by the refugees who have set up camp in my yard; with any luck, they’ll just be paraded around the… (more)',\n",
       " 'To East Europeans like us, Sweden feels quiet, relaxed and laid-back. If you’ve ever been to the US, it’s a lot like Ohio :) That’s actually a valid comparison in light of the Swede’s love for All Things American. I’ve seen more classic American cars in the small town I live in, than in all TV shows together. Talks about the salary are not as meaningful in Sweden as they are in your Croatia or in my Romania. People are paid well, and even at the bottom of the ladder you should still get along quite fine. I don’t know much about Swedish politics, except there’s a more and more powerful anti-Muslim… (more)']"
      ]
     },
     "execution_count": 6,
     "metadata": {},
     "output_type": "execute_result"
    }
   ],
   "source": [
    "answer_data = pd.read_csv(\"html_files/sweden_data.csv\")\n",
    "\n",
    "# prepare the text. this example uses the first 3 answers\n",
    "feed_to_gemini = answer_data['answer_text'].iloc[0:5].tolist()\n",
    "feed_to_gemini"
   ]
  },
  {
   "cell_type": "code",
   "execution_count": 7,
   "metadata": {},
   "outputs": [],
   "source": [
    "# create api call to gemini to summarize top_answer\n",
    "\n",
    "model = genai.GenerativeModel(\n",
    "    model_name = \"gemini-1.5-flash\",\n",
    "    system_instruction = \"analyse the following text. find the is that mention about expensive living or expensive housing. At the end of the sentence define the tone in this scale : strongly possitive, possitive, neutral, negative, strongly negative dont add any other information\"\n",
    "    )\n",
    "\n",
    "response = model.generate_content(feed_to_gemini)\n",
    "saved_resnpose = response.text"
   ]
  },
  {
   "cell_type": "code",
   "execution_count": 8,
   "metadata": {},
   "outputs": [
    {
     "data": {
      "text/html": [
       "<div>\n",
       "<style scoped>\n",
       "    .dataframe tbody tr th:only-of-type {\n",
       "        vertical-align: middle;\n",
       "    }\n",
       "\n",
       "    .dataframe tbody tr th {\n",
       "        vertical-align: top;\n",
       "    }\n",
       "\n",
       "    .dataframe thead th {\n",
       "        text-align: right;\n",
       "    }\n",
       "</style>\n",
       "<table border=\"1\" class=\"dataframe\">\n",
       "  <thead>\n",
       "    <tr style=\"text-align: right;\">\n",
       "      <th></th>\n",
       "      <th>Summary</th>\n",
       "      <th>Tone</th>\n",
       "    </tr>\n",
       "  </thead>\n",
       "  <tbody>\n",
       "    <tr>\n",
       "      <th>0</th>\n",
       "      <td>The text mentions that renting apartments in t...</td>\n",
       "      <td>Negative</td>\n",
       "    </tr>\n",
       "  </tbody>\n",
       "</table>\n",
       "</div>"
      ],
      "text/plain": [
       "                                             Summary      Tone\n",
       "0  The text mentions that renting apartments in t...  Negative"
      ]
     },
     "execution_count": 8,
     "metadata": {},
     "output_type": "execute_result"
    }
   ],
   "source": [
    "#put the response in a dataframe\n",
    "summary, tone = saved_resnpose.rsplit(\"\\n\\n\", 1)\n",
    "tone = tone.strip().replace(\"Tone:\", \"\").strip()\n",
    "response_df = pd.DataFrame({\"Summary\": [summary.strip()], \"Tone\": [tone]})\n",
    "response_df\n"
   ]
  },
  {
   "cell_type": "code",
   "execution_count": 20,
   "metadata": {},
   "outputs": [
    {
     "name": "stdout",
     "output_type": "stream",
     "text": [
      "                                             Summary            Tone\n",
      "0  The text mentions expensive housing in Aucklan...  Tone: Negative\n"
     ]
    }
   ],
   "source": [
    "print(response_df)"
   ]
  },
  {
   "cell_type": "code",
   "execution_count": 10,
   "metadata": {},
   "outputs": [
    {
     "data": {
      "text/plain": [
       "['You are born. Your parents do not have to pay anything for the hospital visit.Up until you are in your mid teens your parents are paid for having you.All hospital visits are free for your entire life (except a small administrative fee for each visit; $15).Going to school is free of charge, even going to college and university (!)You are actually paid for going to school.Should you end up on the street, the social service finds you a secure home.People are nice, however not that talkative.If you are invited to visit at Swedish home you can expect to be offered a kanelbulle and coffee.Winters are cold, summers are nice, fall is beautiful, and spring is wonderful.We have two kings: Kung Carl Gustav and Zlatan Ibrahimovic.',\n",
       " 'I can give you my unique perspective on these things, without presumptions. Lifestyle - Sweden is quiet. It’s the second biggest country by area in Europe, with only 10 million people. I live in Stockholm, about 12 minutes from the central station by train and it feels like I live in the countryside. If you sit on the subway, it’s quiet also. If you’re not proactive about making friends and acquaintances, you’ll feel lonely. You can meet these through your job, through a school, or through hobby clubs and interest areas. It took me a while to get used to the fact that you don’t generally strike up conversations with strangers on buses and trains. Salaries - I believe i get paid quite well for a 27 year old in a skilled area. I’ve worked in an advertising agency as a creative for the last three years. I earn enough to pay rent. I pay around 6000SEK from my mortgage every month. I can eat out without thinking too much about the cost. I save 20-25% of my monthly salary and splurge on the occasional crap i don’t need, like new shoes etc. Renting apartments in the city is quite expensive, but even when I first moved to Stockholm, I took a job at a restaurant as a cook and found that I got by just fine. My salary after tax was about 15,000SEK. Politics - For me this is a non-issue. Stockholm is a melting pot of cultures and in my five years here, i’ve never directly witnessed intentional racism.Sure, there are racists and sexist, but they’re everywhere. There is the odd story in the paper about rape, murder, assault, but they’re few and far between. I feel safe taking the train at 2am and my girlfriend feels the same way. Swedes are generally very accepting of people’s sexuality, gender identity, race, etc etc. Metal - The dads love it. My girlfriend’s dad loves Iron Maiden, Judas Priest etc, but people have diverse tastes in music. It’s not like you see a train full of metalheads everyday. Hope some of this personal perspective helps you. Come visit!',\n",
       " 'I have lived in Sweden back in 2015. As it was my first time outside India. There were many pros and cons.Pros:-1) Great environment,clean and fresh air. Which is definitely an issue in most of the cities in India.2) There is an environment of mutual respect at work place and most of the people are not bothered about what you are doing in your life unlike India.3) Travelling around Stockholm was so easy in metro and buses as you need a single card for 30 days ...cost 799 krones. It will work everywhere.4) So much learn from Sweden how to do governance and put a system in place. No room fo… (more)',\n",
       " 'There are, oddly, two schools of thought on this. Fox News version: I get up at 7, ignoring the call to morning prayer, since it’s basically my last chance before it becomes mandatory also for Christians. Turn on the news. Another 514 Christian women raped by refugees; the Chief of Police praises the new record and fires another 800 staff. Commuter train bombed by terrorists again; wife will have to walk to work, puts on her bulletproof vest (for the snipers). Kids off to school, after being robbed by the refugees who have set up camp in my yard; with any luck, they’ll just be paraded around the… (more)',\n",
       " 'To East Europeans like us, Sweden feels quiet, relaxed and laid-back. If you’ve ever been to the US, it’s a lot like Ohio :) That’s actually a valid comparison in light of the Swede’s love for All Things American. I’ve seen more classic American cars in the small town I live in, than in all TV shows together. Talks about the salary are not as meaningful in Sweden as they are in your Croatia or in my Romania. People are paid well, and even at the bottom of the ladder you should still get along quite fine. I don’t know much about Swedish politics, except there’s a more and more powerful anti-Muslim… (more)',\n",
       " 'If space aliens were to make a documentary on us humans, they might choose to film some scenes in Sweden to show what we are capable of as a species at best. It is a country of well-protected, great natural beauty where everyone shares quite equitably in the wealth generated by its fairly environmentally friendly and innovative industry. Life is relaxed, comfortable, and safe, and the beauty of the environment is mirrored by the beauty of the cities and the people, who really are exceptionally kind and caring. Sorry if this all sounds terribly corny. I am sure though the alien film industry would… (more)',\n",
       " 'That’s an interesting question. There is actually a government website, Statistics Sweden, and it tells us things like these: So, in Sweden, as of October 2019…7.1 % are unemployed, and 68.3% are employed; I am not sure what the rest are doing; perhaps they are still filling in the forms;93% of the population have internet access at home; those who don’t presumably use their neighbour’s wifi, or are waiting for internet to be installed;66% have a social media account; judging from my own experiences on Facebook, some of those are most likely fakes;consumer price index is 334.39 to 27.7, which i… (more)',\n",
       " 'It depends a lot on you and your character. No matter where you are in Sweden, you will not find the kind of diversity you can find in places like London, Paris, Berlin or Milan. Nor you will find the diversity in climate that you can find in countries like Spain, France or Italy. There are several things about Sweden that might make Sweden the right or the wrong place for you. If you don’t mind terrible weather, you appreciate nature and relatively homogeneous slow-paced environments then Sweden might be the right place for you. If dark, rainy and snowy winters don’t bother you, it’s going to b… (more)',\n",
       " \"It's Awesome!!! If you love nature, landscape full of green forest and lakes, you are going to fall in love with Sweden. This country offers you the highest quality of life. There is a reason why it is the top ranked country in the world in terms of living standards and happiness. It does sounds like a perfect country yet there are lots of widespread stereotype that may be intimidating. Its a cold country ! Sweden is a cold country and the people here are cold as well. True, if you are new or travelling for a short period of time, you will feel this coldness. Once you have spent some time in this… (more)\",\n",
       " 'I moved to Sweden with my 3 children predominantly for financial reasons, as my Swedish husband earned more, and my work was quite flexible. At first I loved what I saw - free education, beautiful and abundant nature -even in the cities, well designed communities with plenty of free facilities, many free community activities and a strong commitment to sustainability. However after living here a few years I began to notice that some things are very wrong and Sweden is not the paradise it appears to be at first glance. Here is my list of the biggest issues as I see them:Firstly, there is no consu… (more)']"
      ]
     },
     "execution_count": 10,
     "metadata": {},
     "output_type": "execute_result"
    }
   ],
   "source": [
    "answer_data = pd.read_csv(\"html_files/sweden_data.csv\")\n",
    "\n",
    "# prepare the text. this example uses the first 3 answers\n",
    "feed_to_gemini = answer_data['answer_text'].iloc[0:10].tolist()\n",
    "feed_to_gemini"
   ]
  },
  {
   "cell_type": "code",
   "execution_count": 11,
   "metadata": {},
   "outputs": [],
   "source": [
    "model = genai.GenerativeModel(\n",
    "    model_name = \"gemini-1.5-flash\",\n",
    "    system_instruction = \"analyse the text, create summary in 200 words higligting living cost or housing price. At the end of the sentence define the tone in this scale : strongly possitive, possitive, neutral, negative, strongly negative dont add any other information\")\n",
    "\n",
    "response = model.generate_content(feed_to_gemini)\n",
    "saved_resnpose = response.text"
   ]
  },
  {
   "cell_type": "code",
   "execution_count": null,
   "metadata": {},
   "outputs": [],
   "source": []
  },
  {
   "cell_type": "code",
   "execution_count": 12,
   "metadata": {},
   "outputs": [],
   "source": [
    "summary, tone = saved_resnpose.rsplit(\"\\n\\n\", 1)\n",
    "tone = tone.strip().replace(\"Tone:\", \"\").strip()\n",
    "\n",
    "#append the summary and tone to response_df\n",
    "response_df_sweden = pd.DataFrame({\"Summary\": [summary.strip()], \"Tone\": [tone]})"
   ]
  },
  {
   "cell_type": "code",
   "execution_count": 9,
   "metadata": {},
   "outputs": [],
   "source": [
    "response_df.to_csv(\"sweden_response_df.csv\", index=False)"
   ]
  },
  {
   "cell_type": "code",
   "execution_count": 13,
   "metadata": {},
   "outputs": [],
   "source": [
    "response_df_sweden.to_csv(\"sweden_response1_df.csv\", index=False)"
   ]
  }
 ],
 "metadata": {
  "kernelspec": {
   "display_name": "Python310",
   "language": "python",
   "name": "python3"
  },
  "language_info": {
   "codemirror_mode": {
    "name": "ipython",
    "version": 3
   },
   "file_extension": ".py",
   "mimetype": "text/x-python",
   "name": "python",
   "nbconvert_exporter": "python",
   "pygments_lexer": "ipython3",
   "version": "3.10.15"
  }
 },
 "nbformat": 4,
 "nbformat_minor": 2
}
